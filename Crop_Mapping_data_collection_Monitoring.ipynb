{
  "cells": [
    {
      "cell_type": "markdown",
      "id": "CHifZGDO6n3t",
      "metadata": {
        "id": "CHifZGDO6n3t"
      },
      "source": [
        "## **URL links for the Kobo form**"
      ]
    },
    {
      "cell_type": "code",
      "execution_count": null,
      "id": "F-nOuSh06fH6",
      "metadata": {
        "id": "F-nOuSh06fH6"
      },
      "outputs": [],
      "source": [
        "data_url = \"https://kc.humanitarianresponse.info/api/v1/data/yourfile.json\"\n"
      ]
    },
    {
      "cell_type": "markdown",
      "id": "n4MjWDju60Os",
      "metadata": {
        "id": "n4MjWDju60Os"
      },
      "source": [
        "## Importing the modules required for this notebook\n",
        "\n",
        "This notebook requires pandas, geopandas and follium for the data visualization & Analysis."
      ]
    },
    {
      "cell_type": "code",
      "execution_count": null,
      "id": "c72b3754-6ca2-4fd5-8cac-ecda794f0b89",
      "metadata": {
        "id": "c72b3754-6ca2-4fd5-8cac-ecda794f0b89"
      },
      "outputs": [],
      "source": [
        "import requests\n",
        "import pandas as pd\n",
        "import os"
      ]
    },
    {
      "cell_type": "markdown",
      "id": "0Y0tk7aY7MZB",
      "metadata": {
        "id": "0Y0tk7aY7MZB"
      },
      "source": [
        "#### Use this cell for installing the geopandas module\n",
        "If you bear any problem while running the cells, Please install the required modules as per your need with similar way as of below:"
      ]
    },
    {
      "cell_type": "code",
      "execution_count": null,
      "id": "0323a0d5-27c7-43c3-9181-6184f5e026ae",
      "metadata": {
        "id": "0323a0d5-27c7-43c3-9181-6184f5e026ae"
      },
      "outputs": [],
      "source": [
        "import geopandas as gpd\n",
        "from shapely import wkt"
      ]
    },
    {
      "cell_type": "code",
      "execution_count": null,
      "id": "ef822a3c-c12c-4f58-81f7-e24c103f298a",
      "metadata": {
        "id": "ef822a3c-c12c-4f58-81f7-e24c103f298a"
      },
      "outputs": [],
      "source": [
        "import numpy as np"
      ]
    },
    {
      "cell_type": "code",
      "execution_count": null,
      "id": "a12f7ec3-c320-41ea-8ed6-d8a8bc4bb1cf",
      "metadata": {
        "id": "a12f7ec3-c320-41ea-8ed6-d8a8bc4bb1cf"
      },
      "outputs": [],
      "source": [
        "import folium\n",
        "import matplotlib.pyplot as plt"
      ]
    },
    {
      "cell_type": "code",
      "execution_count": null,
      "id": "a73fb29f-8ff9-466b-9846-3dc295b5df2c",
      "metadata": {
        "id": "a73fb29f-8ff9-466b-9846-3dc295b5df2c"
      },
      "outputs": [],
      "source": [
        "username = 'username'\n",
        "password = 'password'"
      ]
    },
    {
      "cell_type": "markdown",
      "id": "IRVDxlE27tF7",
      "metadata": {
        "id": "IRVDxlE27tF7"
      },
      "source": [
        "\n",
        "## Reading the data directly from Kobo server:\n",
        "\n",
        "It will be accesing the real time data as of time of runing this code. But be careful of the fact that, Enumerators may have collected the data in their device and haven't yet submitted the data to server"
      ]
    },
    {
      "cell_type": "code",
      "execution_count": null,
      "id": "6e0b6335-19c8-4feb-badd-1da2aed25eab",
      "metadata": {
        "id": "6e0b6335-19c8-4feb-badd-1da2aed25eab"
      },
      "outputs": [],
      "source": [
        "response = requests.get(data_url, auth=(username, password))\n",
        "j = response.json()\n",
        "df = pd.json_normalize(j)"
      ]
    },
    {
      "cell_type": "code",
      "execution_count": null,
      "id": "PAWOivL8VDuL",
      "metadata": {
        "id": "PAWOivL8VDuL"
      },
      "outputs": [],
      "source": [
        "df.shape"
      ]
    },
    {
      "cell_type": "code",
      "execution_count": null,
      "id": "9d5d34ec-b8c0-45fc-91ff-cebcf7394551",
      "metadata": {
        "colab": {
          "base_uri": "https://localhost:8080/"
        },
        "id": "9d5d34ec-b8c0-45fc-91ff-cebcf7394551",
        "outputId": "a650c84a-6bae-40dd-eb97-8ceae49a397e"
      },
      "outputs": [],
      "source": [
        "df.columns"
      ]
    },
    {
      "cell_type": "markdown",
      "id": "548777d8",
      "metadata": {},
      "source": [
        "### Only selecting the  Crop and Geo-cordinates data from the dataset downloaded"
      ]
    },
    {
      "cell_type": "code",
      "execution_count": null,
      "id": "6c1fcc7a-3cbc-443c-a453-951c3ad57cbf",
      "metadata": {
        "id": "6c1fcc7a-3cbc-443c-a453-951c3ad57cbf"
      },
      "outputs": [],
      "source": [
        "df = df[['enumerators',\n",
        "       'A/first_criteria/second_criteria/location_info/state',\n",
        "       'A/first_criteria/second_criteria/location_info/district',\n",
        "       'A/first_criteria/second_criteria/B/crop',\n",
        "       \n",
        "       'A/first_criteria/second_criteria/C/PlotGPS',\n",
        "       'A/first_criteria/second_criteria/C/shape',\n",
        "       'A/first_criteria/second_criteria/C/shape_area',\n",
        "       'A/first_criteria/second_criteria/C/rounded_shape_area',\n",
        "       '_geolocation']]\n"
      ]
    },
    {
      "cell_type": "code",
      "execution_count": null,
      "id": "3a2a99cc",
      "metadata": {},
      "outputs": [],
      "source": [
        "# Renaming the column headings to simple names\n",
        "col_rename = ['enumerators',\n",
        "    'state',\n",
        "    'district',\n",
        "    'crop',\n",
        "   \n",
        "    'PlotGPS',\n",
        "    'shape',\n",
        "    'shape_area',\n",
        "    'rounded_shape_area', 'geolocation'\n",
        "]\n",
        "df.columns = col_rename"
      ]
    },
    {
      "cell_type": "markdown",
      "id": "I-f3cRcu8SFJ",
      "metadata": {
        "id": "I-f3cRcu8SFJ"
      },
      "source": [
        "## Data submitted by individual enumerators (Number of samples for each)"
      ]
    },
    {
      "cell_type": "code",
      "execution_count": null,
      "id": "d495a016-9aba-4bfb-962c-aefc629e560c",
      "metadata": {
        "colab": {
          "base_uri": "https://localhost:8080/"
        },
        "id": "d495a016-9aba-4bfb-962c-aefc629e560c",
        "outputId": "3f2deba3-04dc-4f7b-da76-ccfd9e91caac"
      },
      "outputs": [],
      "source": [
        "df.groupby(['enumerators'])['crop'].count()"
      ]
    },
    {
      "cell_type": "markdown",
      "id": "XHFEvpy8Fk00",
      "metadata": {
        "id": "XHFEvpy8Fk00"
      },
      "source": [
        "### Crop sample size for whole study area"
      ]
    },
    {
      "cell_type": "code",
      "execution_count": null,
      "id": "srixLY_uFVcY",
      "metadata": {
        "colab": {
          "base_uri": "https://localhost:8080/"
        },
        "id": "srixLY_uFVcY",
        "outputId": "ba3ff762-e9cd-4d1d-e6e8-945b0901d282"
      },
      "outputs": [],
      "source": [
        "df['crop'].value_counts()"
      ]
    },
    {
      "cell_type": "markdown",
      "id": "gTDU6Xaa8ejL",
      "metadata": {
        "id": "gTDU6Xaa8ejL"
      },
      "source": [
        "## Number of samples by each enumerators with crop type samples"
      ]
    },
    {
      "cell_type": "code",
      "execution_count": null,
      "id": "b26a2c51-43c6-4f85-88f2-85df671e8000",
      "metadata": {
        "colab": {
          "base_uri": "https://localhost:8080/"
        },
        "id": "b26a2c51-43c6-4f85-88f2-85df671e8000",
        "outputId": "7d46642a-c8d4-4153-de52-d65ebef6bfef"
      },
      "outputs": [],
      "source": [
        "df.groupby(['enumerators','crop'])['crop'].count()"
      ]
    },
    {
      "cell_type": "markdown",
      "id": "08jr2Mev8rIh",
      "metadata": {
        "id": "08jr2Mev8rIh"
      },
      "source": [
        "## Each Region (AOI) wise crop samples collected so far:\n"
      ]
    },
    {
      "cell_type": "code",
      "execution_count": null,
      "id": "f130a564-3183-4dc3-bc67-2be0af12b42a",
      "metadata": {
        "id": "f130a564-3183-4dc3-bc67-2be0af12b42a"
      },
      "outputs": [],
      "source": [
        "# Ref\n",
        "# https://stackoverflow.com/questions/67093514/how-can-i-convert-a-geoshape-geotrace-geopoint-to-geojson"
      ]
    },
    {
      "cell_type": "code",
      "execution_count": null,
      "id": "lriXGuJAj1pl",
      "metadata": {
        "id": "lriXGuJAj1pl"
      },
      "outputs": [],
      "source": [
        "region_dist_dict = {\n",
        "    '233': 'Birgunj',\n",
        "    '234': 'Birgunj',\n",
        "    '320': 'Kathmandu',\n",
        "    '324': 'Kathmandu',\n",
        "    '325': 'Kathmandu',\n",
        "    '326': 'Kathmandu',\n",
        "    '327': 'Kathmandu',\n",
        "    '329': 'Kathmandu',\n",
        "    '439': 'Pokhara',\n",
        "    '440': 'Pokhara',\n",
        "    '546': 'Kapilvastu',\n",
        "    '550': 'Kapilvastu',\n",
        "    '556': 'Dang',\n",
        "    '557': 'NepalGunj',\n",
        "    '558': 'NepalGunj',\n",
        "    '577': 'Rukum',\n",
        "    '654': 'Rukum',\n",
        "    '769': 'Achham',\n",
        "    '771': 'Dhangadi',\n",
        "    '772': 'Dhangadi',\n",
        "}\n"
      ]
    },
    {
      "cell_type": "code",
      "execution_count": null,
      "id": "d9c6476c",
      "metadata": {},
      "outputs": [],
      "source": [
        "df_dict ={\n",
        "    'district':list(region_dist_dict.keys()),\n",
        "    'AOI':list(region_dist_dict.values())\n",
        "}\n"
      ]
    },
    {
      "cell_type": "code",
      "execution_count": null,
      "id": "a74bf249",
      "metadata": {},
      "outputs": [],
      "source": [
        "df_reg = pd.DataFrame.from_dict(df_dict)\n",
        "df = df.merge(df_reg, how='inner', on='district')"
      ]
    },
    {
      "cell_type": "code",
      "execution_count": null,
      "id": "XREOj36Wj9yb",
      "metadata": {
        "colab": {
          "base_uri": "https://localhost:8080/"
        },
        "id": "XREOj36Wj9yb",
        "outputId": "0bdbdacd-516f-4226-ea98-00e242edaa85"
      },
      "outputs": [],
      "source": [
        "count_dist_crop = df.groupby(['AOI','crop','enumerators'])['crop'].count()\n"
      ]
    },
    {
      "cell_type": "code",
      "execution_count": null,
      "id": "2d56abfb",
      "metadata": {},
      "outputs": [],
      "source": [
        "count_dist_crop"
      ]
    },
    {
      "cell_type": "code",
      "execution_count": null,
      "id": "9cb249a5-10c8-4da8-87a3-883f0d51a29d",
      "metadata": {
        "colab": {
          "base_uri": "https://localhost:8080/"
        },
        "id": "9cb249a5-10c8-4da8-87a3-883f0d51a29d",
        "outputId": "d499c513-6fb3-47ee-ba65-bd12626a0bae"
      },
      "outputs": [],
      "source": [
        "df.groupby(['AOI',])['crop'].count()"
      ]
    },
    {
      "cell_type": "markdown",
      "id": "9e2c491d-b7c5-4f67-9d0c-01726e1501e3",
      "metadata": {
        "id": "9e2c491d-b7c5-4f67-9d0c-01726e1501e3"
      },
      "source": [
        "## Point Visualization for monitoring"
      ]
    },
    {
      "cell_type": "code",
      "execution_count": null,
      "id": "edd334d2-07f5-4691-ade0-9c253d827647",
      "metadata": {
        "id": "edd334d2-07f5-4691-ade0-9c253d827647"
      },
      "outputs": [],
      "source": [
        "def wkt_point(pon):\n",
        "    point = \"POINT ({} {})\".format(pon[1], pon[0])\n",
        "    return point"
      ]
    },
    {
      "cell_type": "code",
      "execution_count": null,
      "id": "03073c47-4fc7-4759-8cb7-3ca2f637b760",
      "metadata": {
        "id": "03073c47-4fc7-4759-8cb7-3ca2f637b760"
      },
      "outputs": [],
      "source": [
        "df['point_geom'] = df['geolocation'].map(wkt_point)\n",
        "# df\n",
        "\n",
        "df['point_geometry'] = df.point_geom.apply(wkt.loads)\n",
        "df.drop('point_geom', axis=1, inplace=True) #Drop WKT column\n",
        "\n",
        "\n",
        "gdf_point = gpd.GeoDataFrame(df, geometry='point_geometry')\n",
        "# gdf_point"
      ]
    },
    {
      "cell_type": "markdown",
      "id": "4be28d92-4649-45de-8aa6-c58bbc60d458",
      "metadata": {
        "id": "4be28d92-4649-45de-8aa6-c58bbc60d458"
      },
      "source": [
        "# Monitoring the feild polygons for each crop"
      ]
    },
    {
      "cell_type": "code",
      "execution_count": null,
      "id": "eea5586a-4b8a-4a06-a619-012b3e86656b",
      "metadata": {
        "id": "eea5586a-4b8a-4a06-a619-012b3e86656b"
      },
      "outputs": [],
      "source": [
        "from shapely.geometry import LineString, Point, Polygon\n",
        "from shapely.wkt import dumps"
      ]
    },
    {
      "cell_type": "code",
      "execution_count": null,
      "id": "e613170e-8927-4b37-8adf-ded3e9f97eb4",
      "metadata": {
        "id": "e613170e-8927-4b37-8adf-ded3e9f97eb4"
      },
      "outputs": [],
      "source": [
        "# https://python.hotexamples.com/examples/shapely.wkt/-/dumps/python-dumps-function-examples.html#0x346e25d2de439ed401c723d3f6e3e4c911cb28698b845c5bec33796af1b082ac-106,,134,\n",
        "# https://github.com/Cadasta/cadasta-platform/blob/master/cadasta/xforms/utils.py\n",
        "\n",
        "def odk_geom_to_wkt(coords):\n",
        "    \"\"\"Convert geometries in ODK format to WKT.\"\"\"\n",
        "\n",
        "    if coords == '':\n",
        "        return ''\n",
        "#     print(coords)\n",
        "    if str(coords)!='nan':\n",
        "        coords = coords.replace('\\n', '')\n",
        "        coords = coords.split(';')\n",
        "        coords = [c.strip() for c in coords]\n",
        "        if (coords[-1] == ''):\n",
        "            coords.pop()\n",
        "\n",
        "        if len(coords) > 1:\n",
        "            # check for a geoshape taking into account\n",
        "            # the bug in odk where the second coordinate in a geoshape\n",
        "            # is the same as the last (first and last should be equal)\n",
        "            if len(coords) > 3:\n",
        "                if coords[1] == coords[-1]:  # geom is closed\n",
        "                    coords.pop()\n",
        "                    coords.append(coords[0])\n",
        "            points = []\n",
        "            for coord in coords:\n",
        "                coord = coord.split(' ')\n",
        "                coord = [x for x in coord if x]\n",
        "                latlng = [float(coord[1]),\n",
        "                          float(coord[0])]\n",
        "                points.append(tuple(latlng))\n",
        "            if (coords[0] != coords[-1] or len(coords) == 2):\n",
        "                return dumps(LineString(points))\n",
        "            else:\n",
        "                return dumps(Polygon(points))\n",
        "        else:\n",
        "            latlng = coords[0].split(' ')\n",
        "            latlng = [x for x in latlng if x]\n",
        "            return dumps(Point(float(latlng[1]), float(latlng[0])))\n",
        "    else:\n",
        "        return np.nan"
      ]
    },
    {
      "cell_type": "code",
      "execution_count": null,
      "id": "64d21b89-5a38-4662-a689-cac09c57ff94",
      "metadata": {
        "id": "64d21b89-5a38-4662-a689-cac09c57ff94"
      },
      "outputs": [],
      "source": [
        "\n",
        "\n",
        "def wkt_loads(x):\n",
        "    try:\n",
        "        return wkt.loads(x)\n",
        "    except Exception:\n",
        "        return None"
      ]
    },
    {
      "cell_type": "code",
      "execution_count": null,
      "id": "532d1418-d07c-4f83-8b62-3d35729ab906",
      "metadata": {
        "id": "532d1418-d07c-4f83-8b62-3d35729ab906"
      },
      "outputs": [],
      "source": [
        "df['geom_poly'] = df['shape'].map(odk_geom_to_wkt)\n"
      ]
    },
    {
      "cell_type": "code",
      "execution_count": null,
      "id": "a0a40fa5-bea2-4fad-abd9-6123b2e1d871",
      "metadata": {
        "id": "a0a40fa5-bea2-4fad-abd9-6123b2e1d871"
      },
      "outputs": [],
      "source": [
        "df_new = df\n",
        "df_new['geometry'] = df_new.geom_poly.apply(wkt_loads)\n",
        "df_new.drop('geom_poly', axis=1, inplace=True) #Drop WKT column\n",
        "df_new = df_new.dropna(subset=['geometry'])\n",
        "\n",
        "# Geopandas GeoDataFrame\n",
        "gdf_poly = gpd.GeoDataFrame(df_new, geometry='geometry')"
      ]
    },
    {
      "cell_type": "markdown",
      "id": "591f5ebb-ea48-49cb-9790-9abfd55d8f96",
      "metadata": {
        "id": "591f5ebb-ea48-49cb-9790-9abfd55d8f96"
      },
      "source": [
        "## Map Visualization of the survey"
      ]
    },
    {
      "cell_type": "code",
      "execution_count": null,
      "id": "57ea4c60-218f-4efc-831c-b81bdd7d65f6",
      "metadata": {
        "id": "57ea4c60-218f-4efc-831c-b81bdd7d65f6"
      },
      "outputs": [],
      "source": [
        "map_vis = folium.Map(location=[28.5212389, 81.0903013], zoom_start=10, tiles=\"https://mt1.google.com/vt/lyrs=y&x={x}&y={y}&z={z}\",\n",
        "        attr=\"Google\",\n",
        "        name=\"Google Satellite\")"
      ]
    },
    {
      "cell_type": "code",
      "execution_count": null,
      "id": "49f5cc4b-4be7-4ac1-be51-9767ff94e1ab",
      "metadata": {
        "id": "49f5cc4b-4be7-4ac1-be51-9767ff94e1ab"
      },
      "outputs": [],
      "source": [
        "# Create a geometry list from the GeoDataFrame\n",
        "geo_df_list = [[point.xy[1][0], point.xy[0][0]] for point in gdf_point.point_geometry]\n",
        "\n",
        "# Iterate through list and add a marker for each volcano, color-coded by its type.\n",
        "i = 0\n",
        "for coordinates in geo_df_list:\n",
        "\n",
        "    # Place the markers with the popup labels and data\n",
        "    map_vis.add_child(\n",
        "        folium.Marker(\n",
        "            location=coordinates,\n",
        "            popup=\n",
        "                \"Crop: \" + str(gdf_point.crop[i]) + \"<br>\"\n",
        "                + \"Enumerator: \" + str(gdf_point.enumerators[i]) + \"<br>\"\n",
        "            ),\n",
        "        )\n",
        "    i = i + 1"
      ]
    },
    {
      "cell_type": "code",
      "execution_count": null,
      "id": "c13b95bf-45c3-4d58-90fc-71e513c9a697",
      "metadata": {
        "id": "c13b95bf-45c3-4d58-90fc-71e513c9a697"
      },
      "outputs": [],
      "source": [
        "for _, r in gdf_poly.iterrows():\n",
        "    # Without simplifying the representation of each borough,\n",
        "    # the map might not be displayed\n",
        "    sim_geo = gpd.GeoSeries(r['geometry']).simplify(tolerance=0.001)\n",
        "    geo_j = sim_geo.to_json()\n",
        "    geo_j = folium.GeoJson(data=geo_j,\n",
        "                           style_function=lambda x: {'fillColor': 'orange'})\n",
        "    folium.Popup(r['enumerators']).add_to(geo_j)\n",
        "    geo_j.add_to(map_vis)\n"
      ]
    },
    {
      "cell_type": "markdown",
      "id": "Rw_9TGNh88ha",
      "metadata": {
        "id": "Rw_9TGNh88ha"
      },
      "source": [
        "## Kobo points and polygon being collected\n",
        "Visualization of the sample points and polygon overlayed on google hybrid map"
      ]
    },
    {
      "cell_type": "code",
      "execution_count": null,
      "id": "d84ab5b7-92fd-46c7-a454-b4959f3f623a",
      "metadata": {
        "colab": {
          "base_uri": "https://localhost:8080/",
          "height": 855
        },
        "id": "d84ab5b7-92fd-46c7-a454-b4959f3f623a",
        "outputId": "74c101e0-a8cb-4ac3-aeba-5f1431d91776"
      },
      "outputs": [],
      "source": [
        "\n",
        "map_vis"
      ]
    },
    {
      "cell_type": "code",
      "execution_count": null,
      "id": "d0aac2b9",
      "metadata": {},
      "outputs": [],
      "source": []
    }
  ],
  "metadata": {
    "colab": {
      "provenance": []
    },
    "kernelspec": {
      "display_name": "Python 3",
      "language": "python",
      "name": "python3"
    },
    "language_info": {
      "codemirror_mode": {
        "name": "ipython",
        "version": 3
      },
      "file_extension": ".py",
      "mimetype": "text/x-python",
      "name": "python",
      "nbconvert_exporter": "python",
      "pygments_lexer": "ipython3",
      "version": "3.11.7"
    }
  },
  "nbformat": 4,
  "nbformat_minor": 5
}
